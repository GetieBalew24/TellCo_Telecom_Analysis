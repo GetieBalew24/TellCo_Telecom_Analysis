{
 "cells": [
  {
   "cell_type": "markdown",
   "metadata": {},
   "source": [
    "## Task-3 User Experience Analysis\n"
   ]
  },
  {
   "cell_type": "markdown",
   "metadata": {},
   "source": [
    "#### Import Libraries and Load the Dataset"
   ]
  },
  {
   "cell_type": "code",
   "execution_count": 2,
   "metadata": {},
   "outputs": [],
   "source": [
    "import os\n",
    "import sys\n",
    "import pandas as pd\n",
    "import numpy as np\n",
    "from sklearn.preprocessing import MinMaxScaler\n",
    "from sklearn.cluster import KMeans\n",
    "import matplotlib.pyplot as plt\n",
    "import seaborn as sns\n",
    "\n",
    "# Get the current working directory\n",
    "current_dir = os.getcwd()\n",
    "\n",
    "# Append the parent directory to sys.path\n",
    "parent_dir = os.path.dirname(current_dir)\n",
    "sys.path.append(parent_dir)\n",
    "\n",
    "\n",
    "# ignore warrnings\n",
    "import warnings\n",
    "warnings.filterwarnings(\"ignore\")"
   ]
  },
  {
   "cell_type": "code",
   "execution_count": 3,
   "metadata": {},
   "outputs": [],
   "source": [
    "# import Postgres connection from DB_connection folder\n",
    "from DBConnection.connection import PostgresConnection\n",
    "from scripts.experience_analyzer import *"
   ]
  },
  {
   "cell_type": "code",
   "execution_count": 4,
   "metadata": {},
   "outputs": [
    {
     "name": "stdout",
     "output_type": "stream",
     "text": [
      "Connected to PostgreSQL database\n"
     ]
    }
   ],
   "source": [
    "# Create an instance of the PostgresConnection class and connect to the database\n",
    "db=PostgresConnection()\n",
    "db.connect()"
   ]
  },
  {
   "cell_type": "code",
   "execution_count": 5,
   "metadata": {},
   "outputs": [
    {
     "name": "stdout",
     "output_type": "stream",
     "text": [
      "Query executed successfully\n"
     ]
    }
   ],
   "source": [
    "# query to retrive all the data from xdr_data table\n",
    "query='select * from xdr_data'\n",
    "db.execute_query(query)"
   ]
  },
  {
   "cell_type": "code",
   "execution_count": 6,
   "metadata": {},
   "outputs": [
    {
     "data": {
      "text/html": [
       "<div>\n",
       "<style scoped>\n",
       "    .dataframe tbody tr th:only-of-type {\n",
       "        vertical-align: middle;\n",
       "    }\n",
       "\n",
       "    .dataframe tbody tr th {\n",
       "        vertical-align: top;\n",
       "    }\n",
       "\n",
       "    .dataframe thead th {\n",
       "        text-align: right;\n",
       "    }\n",
       "</style>\n",
       "<table border=\"1\" class=\"dataframe\">\n",
       "  <thead>\n",
       "    <tr style=\"text-align: right;\">\n",
       "      <th></th>\n",
       "      <th>Bearer Id</th>\n",
       "      <th>Start</th>\n",
       "      <th>Start ms</th>\n",
       "      <th>End</th>\n",
       "      <th>End ms</th>\n",
       "      <th>Dur. (ms)</th>\n",
       "      <th>IMSI</th>\n",
       "      <th>MSISDN/Number</th>\n",
       "      <th>IMEI</th>\n",
       "      <th>Last Location Name</th>\n",
       "      <th>...</th>\n",
       "      <th>Youtube DL (Bytes)</th>\n",
       "      <th>Youtube UL (Bytes)</th>\n",
       "      <th>Netflix DL (Bytes)</th>\n",
       "      <th>Netflix UL (Bytes)</th>\n",
       "      <th>Gaming DL (Bytes)</th>\n",
       "      <th>Gaming UL (Bytes)</th>\n",
       "      <th>Other DL (Bytes)</th>\n",
       "      <th>Other UL (Bytes)</th>\n",
       "      <th>Total UL (Bytes)</th>\n",
       "      <th>Total DL (Bytes)</th>\n",
       "    </tr>\n",
       "  </thead>\n",
       "  <tbody>\n",
       "    <tr>\n",
       "      <th>0</th>\n",
       "      <td>1.311448e+19</td>\n",
       "      <td>Thu Apr 04 2019 15:01:18 GMT+0300 (East Africa...</td>\n",
       "      <td>770.0</td>\n",
       "      <td>Thu Apr 25 2019 17:35:31 GMT+0300 (East Africa...</td>\n",
       "      <td>662.0</td>\n",
       "      <td>1.823653e+09</td>\n",
       "      <td>2.082014e+14</td>\n",
       "      <td>3.366496e+10</td>\n",
       "      <td>3.552121e+13</td>\n",
       "      <td>9164566995485190</td>\n",
       "      <td>...</td>\n",
       "      <td>15854611.0</td>\n",
       "      <td>2501332.0</td>\n",
       "      <td>8198936.0</td>\n",
       "      <td>9656251.0</td>\n",
       "      <td>278082303.0</td>\n",
       "      <td>14344150.0</td>\n",
       "      <td>171744450.0</td>\n",
       "      <td>8814393.0</td>\n",
       "      <td>36749741.0</td>\n",
       "      <td>308879636.0</td>\n",
       "    </tr>\n",
       "    <tr>\n",
       "      <th>1</th>\n",
       "      <td>1.311448e+19</td>\n",
       "      <td>Tue Apr 09 2019 16:04:04 GMT+0300 (East Africa...</td>\n",
       "      <td>235.0</td>\n",
       "      <td>Thu Apr 25 2019 11:15:48 GMT+0300 (East Africa...</td>\n",
       "      <td>606.0</td>\n",
       "      <td>1.365104e+09</td>\n",
       "      <td>2.082019e+14</td>\n",
       "      <td>3.368185e+10</td>\n",
       "      <td>3.579401e+13</td>\n",
       "      <td>L77566A</td>\n",
       "      <td>...</td>\n",
       "      <td>20247395.0</td>\n",
       "      <td>19111729.0</td>\n",
       "      <td>18338413.0</td>\n",
       "      <td>17227132.0</td>\n",
       "      <td>608750074.0</td>\n",
       "      <td>1170709.0</td>\n",
       "      <td>526904238.0</td>\n",
       "      <td>15055145.0</td>\n",
       "      <td>53800391.0</td>\n",
       "      <td>653384965.0</td>\n",
       "    </tr>\n",
       "    <tr>\n",
       "      <th>2</th>\n",
       "      <td>1.311448e+19</td>\n",
       "      <td>Tue Apr 09 2019 20:42:11 GMT+0300 (East Africa...</td>\n",
       "      <td>1.0</td>\n",
       "      <td>Thu Apr 25 2019 14:58:13 GMT+0300 (East Africa...</td>\n",
       "      <td>652.0</td>\n",
       "      <td>1.361763e+09</td>\n",
       "      <td>2.082003e+14</td>\n",
       "      <td>3.376063e+10</td>\n",
       "      <td>3.528151e+13</td>\n",
       "      <td>D42335A</td>\n",
       "      <td>...</td>\n",
       "      <td>19725661.0</td>\n",
       "      <td>14699576.0</td>\n",
       "      <td>17587794.0</td>\n",
       "      <td>6163408.0</td>\n",
       "      <td>229584621.0</td>\n",
       "      <td>395630.0</td>\n",
       "      <td>410692588.0</td>\n",
       "      <td>4215763.0</td>\n",
       "      <td>27883638.0</td>\n",
       "      <td>279807335.0</td>\n",
       "    </tr>\n",
       "    <tr>\n",
       "      <th>3</th>\n",
       "      <td>1.311448e+19</td>\n",
       "      <td>Wed Apr 10 2019 03:31:25 GMT+0300 (East Africa...</td>\n",
       "      <td>486.0</td>\n",
       "      <td>Thu Apr 25 2019 10:36:35 GMT+0300 (East Africa...</td>\n",
       "      <td>171.0</td>\n",
       "      <td>1.321510e+09</td>\n",
       "      <td>2.082014e+14</td>\n",
       "      <td>3.375034e+10</td>\n",
       "      <td>3.535661e+13</td>\n",
       "      <td>T21824A</td>\n",
       "      <td>...</td>\n",
       "      <td>21388122.0</td>\n",
       "      <td>15146643.0</td>\n",
       "      <td>13994646.0</td>\n",
       "      <td>1097942.0</td>\n",
       "      <td>799538153.0</td>\n",
       "      <td>10849722.0</td>\n",
       "      <td>749039933.0</td>\n",
       "      <td>12797283.0</td>\n",
       "      <td>43324218.0</td>\n",
       "      <td>846028530.0</td>\n",
       "    </tr>\n",
       "    <tr>\n",
       "      <th>4</th>\n",
       "      <td>1.311448e+19</td>\n",
       "      <td>Fri Apr 12 2019 23:10:23 GMT+0300 (East Africa...</td>\n",
       "      <td>565.0</td>\n",
       "      <td>Thu Apr 25 2019 13:40:32 GMT+0300 (East Africa...</td>\n",
       "      <td>954.0</td>\n",
       "      <td>1.089009e+09</td>\n",
       "      <td>2.082014e+14</td>\n",
       "      <td>3.369980e+10</td>\n",
       "      <td>3.540701e+13</td>\n",
       "      <td>D88865A</td>\n",
       "      <td>...</td>\n",
       "      <td>15259380.0</td>\n",
       "      <td>18962873.0</td>\n",
       "      <td>17124581.0</td>\n",
       "      <td>415218.0</td>\n",
       "      <td>527707248.0</td>\n",
       "      <td>3529801.0</td>\n",
       "      <td>550709500.0</td>\n",
       "      <td>13910322.0</td>\n",
       "      <td>38542814.0</td>\n",
       "      <td>569138589.0</td>\n",
       "    </tr>\n",
       "  </tbody>\n",
       "</table>\n",
       "<p>5 rows × 55 columns</p>\n",
       "</div>"
      ],
      "text/plain": [
       "      Bearer Id                                              Start  Start ms  \\\n",
       "0  1.311448e+19  Thu Apr 04 2019 15:01:18 GMT+0300 (East Africa...     770.0   \n",
       "1  1.311448e+19  Tue Apr 09 2019 16:04:04 GMT+0300 (East Africa...     235.0   \n",
       "2  1.311448e+19  Tue Apr 09 2019 20:42:11 GMT+0300 (East Africa...       1.0   \n",
       "3  1.311448e+19  Wed Apr 10 2019 03:31:25 GMT+0300 (East Africa...     486.0   \n",
       "4  1.311448e+19  Fri Apr 12 2019 23:10:23 GMT+0300 (East Africa...     565.0   \n",
       "\n",
       "                                                 End  End ms     Dur. (ms)  \\\n",
       "0  Thu Apr 25 2019 17:35:31 GMT+0300 (East Africa...   662.0  1.823653e+09   \n",
       "1  Thu Apr 25 2019 11:15:48 GMT+0300 (East Africa...   606.0  1.365104e+09   \n",
       "2  Thu Apr 25 2019 14:58:13 GMT+0300 (East Africa...   652.0  1.361763e+09   \n",
       "3  Thu Apr 25 2019 10:36:35 GMT+0300 (East Africa...   171.0  1.321510e+09   \n",
       "4  Thu Apr 25 2019 13:40:32 GMT+0300 (East Africa...   954.0  1.089009e+09   \n",
       "\n",
       "           IMSI  MSISDN/Number          IMEI Last Location Name  ...  \\\n",
       "0  2.082014e+14   3.366496e+10  3.552121e+13   9164566995485190  ...   \n",
       "1  2.082019e+14   3.368185e+10  3.579401e+13            L77566A  ...   \n",
       "2  2.082003e+14   3.376063e+10  3.528151e+13            D42335A  ...   \n",
       "3  2.082014e+14   3.375034e+10  3.535661e+13            T21824A  ...   \n",
       "4  2.082014e+14   3.369980e+10  3.540701e+13            D88865A  ...   \n",
       "\n",
       "   Youtube DL (Bytes)  Youtube UL (Bytes)  Netflix DL (Bytes)  \\\n",
       "0          15854611.0           2501332.0           8198936.0   \n",
       "1          20247395.0          19111729.0          18338413.0   \n",
       "2          19725661.0          14699576.0          17587794.0   \n",
       "3          21388122.0          15146643.0          13994646.0   \n",
       "4          15259380.0          18962873.0          17124581.0   \n",
       "\n",
       "   Netflix UL (Bytes)  Gaming DL (Bytes)  Gaming UL (Bytes)  Other DL (Bytes)  \\\n",
       "0           9656251.0        278082303.0         14344150.0       171744450.0   \n",
       "1          17227132.0        608750074.0          1170709.0       526904238.0   \n",
       "2           6163408.0        229584621.0           395630.0       410692588.0   \n",
       "3           1097942.0        799538153.0         10849722.0       749039933.0   \n",
       "4            415218.0        527707248.0          3529801.0       550709500.0   \n",
       "\n",
       "   Other UL (Bytes)  Total UL (Bytes)  Total DL (Bytes)  \n",
       "0         8814393.0        36749741.0       308879636.0  \n",
       "1        15055145.0        53800391.0       653384965.0  \n",
       "2         4215763.0        27883638.0       279807335.0  \n",
       "3        12797283.0        43324218.0       846028530.0  \n",
       "4        13910322.0        38542814.0       569138589.0  \n",
       "\n",
       "[5 rows x 55 columns]"
      ]
     },
     "execution_count": 6,
     "metadata": {},
     "output_type": "execute_result"
    }
   ],
   "source": [
    "# Assign the data to a dataframe named 'df'\n",
    "df=db.fetch_data(query)\n",
    "df.head()"
   ]
  },
  {
   "cell_type": "markdown",
   "metadata": {},
   "source": [
    "#### Aggregate Per Customer Information\n",
    "- Handle Missing Values and Outliers: Replace missing values and outliers with the mean or mode.\n",
    "- Aggregate Average Metrics Per Customer"
   ]
  },
  {
   "cell_type": "code",
   "execution_count": 7,
   "metadata": {},
   "outputs": [],
   "source": [
    "experience_analyzer=ExperienceAnalyzer(df)"
   ]
  },
  {
   "cell_type": "code",
   "execution_count": 8,
   "metadata": {},
   "outputs": [],
   "source": [
    "# Apply fill_missing_value function to fill all missing values in the dataframe df with mean and mode.\n",
    "df = experience_analyzer.fill_missing_values()"
   ]
  }
 ],
 "metadata": {
  "kernelspec": {
   "display_name": "telecomenv",
   "language": "python",
   "name": "python3"
  },
  "language_info": {
   "codemirror_mode": {
    "name": "ipython",
    "version": 3
   },
   "file_extension": ".py",
   "mimetype": "text/x-python",
   "name": "python",
   "nbconvert_exporter": "python",
   "pygments_lexer": "ipython3",
   "version": "3.10.12"
  }
 },
 "nbformat": 4,
 "nbformat_minor": 2
}
